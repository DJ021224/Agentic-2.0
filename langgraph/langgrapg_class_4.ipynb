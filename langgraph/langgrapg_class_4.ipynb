{
 "cells": [
  {
   "cell_type": "code",
   "execution_count": 1,
   "id": "9aa63455",
   "metadata": {},
   "outputs": [
    {
     "name": "stdout",
     "output_type": "stream",
     "text": [
      "all ok\n"
     ]
    }
   ],
   "source": [
    "print(\"all ok\")"
   ]
  },
  {
   "cell_type": "code",
   "execution_count": 2,
   "id": "5f74b464",
   "metadata": {},
   "outputs": [],
   "source": [
    "from langchain_groq import ChatGroq\n",
    "llm = ChatGroq(\n",
    "    model_name=\"deepseek-r1-distill-llama-70b\",\n",
    "    temperature=0\n",
    ")\n",
    "response=llm.invoke(\"what is length of wall of china?\")"
   ]
  },
  {
   "cell_type": "code",
   "execution_count": 3,
   "id": "74c644e5",
   "metadata": {},
   "outputs": [
    {
     "data": {
      "text/plain": [
       "AIMessage(content=\"<think>\\nOkay, so I need to figure out the length of the Great Wall of China. I remember hearing that it's really long, but I'm not exactly sure how long. I think it's somewhere in the thousands of miles, but I'm not certain. Let me try to break this down.\\n\\nFirst, I know the Great Wall is a series of fortifications built across several Chinese dynasties. It wasn't built all at once, so maybe that's why the length can vary. I've heard different numbers before, like 13,000 miles or 21,000 kilometers. But I'm not sure which one is accurate.\\n\\nI should consider the sources of this information. Maybe some people measure it differently. For example, if you include all the branches and sections, it might add up to a longer distance. But if you just take the main wall, it might be shorter. I think the Chinese government did a survey a while back, so that might be a reliable source.\\n\\nWait, I think they used advanced technology like GPS and satellites to measure it more accurately. That would make sense because older measurements might have been estimates. So, if the official measurement is around 13,171 miles, that's probably the most accurate number now.\\n\\nBut I also remember hearing that some sections are overlapping or that the wall isn't one continuous structure. It has different parts built in different times, so maybe that's why the total length adds up to more than just a straight line. Each section was built for specific purposes, like protecting certain areas or controlling trade routes.\\n\\nI wonder how they actually measured it. Did they walk along the wall and mark each segment? Or did they use aerial photography? Using satellites would probably give a more precise measurement because they can cover more ground without missing sections.\\n\\nAlso, the wall's condition might affect the measurement. Some parts are well-preserved, while others are ruins or even gone. So, when measuring, do they count only the parts that still exist, or do they include the entire original structure? I think the survey probably included all the existing sections, whether they're in good shape or not.\\n\\nAnother thing to consider is the historical context. The wall was built over centuries, so each dynasty added their own parts. This could mean that the wall isn't just one long structure but a collection of separate walls built at different times. Therefore, the total length is the sum of all these separate walls.\\n\\nI should also think about units. The user asked for the length, and I know that 13,171 miles is the figure I've heard before. Converting that to kilometers, it's about 21,196 km. That seems really long, but considering the wall spans across mountains and plains, it makes sense.\\n\\nI'm trying to remember if there are any other famous walls that are similarly long. I think the Great Wall of China is the longest man-made structure, so it's longer than other walls like Hadrian's Wall or the Berlin Wall. That puts it into perspective.\\n\\nIn summary, the Great Wall of China's length is approximately 13,171 miles or 21,196 kilometers. This measurement was determined by a comprehensive survey that accounted for all the sections, including the branches and overlapping parts. It's important to note that the wall isn't a single, continuous structure but a series of interconnected fortifications built over many centuries.\\n</think>\\n\\nThe Great Wall of China is approximately 13,171 miles (21,196 kilometers) long. This measurement was determined by a comprehensive survey that included all sections, branches, and overlapping parts. The wall is not a single, continuous structure but a series of fortifications built over centuries, contributing to its extensive total length.\", additional_kwargs={}, response_metadata={'token_usage': {'completion_tokens': 755, 'prompt_tokens': 11, 'total_tokens': 766, 'completion_time': 3.3699862, 'prompt_time': 0.000280775, 'queue_time': 0.054523005000000006, 'total_time': 3.370266975}, 'model_name': 'deepseek-r1-distill-llama-70b', 'system_fingerprint': 'fp_1bbe7845ec', 'finish_reason': 'stop', 'logprobs': None}, id='run--0435bd19-0ce8-4db1-92bf-ac0f688eefad-0', usage_metadata={'input_tokens': 11, 'output_tokens': 755, 'total_tokens': 766})"
      ]
     },
     "execution_count": 3,
     "metadata": {},
     "output_type": "execute_result"
    }
   ],
   "source": [
    "response"
   ]
  },
  {
   "cell_type": "code",
   "execution_count": 4,
   "id": "ccf93991",
   "metadata": {},
   "outputs": [
    {
     "data": {
      "text/plain": [
       "\"<think>\\nOkay, so I need to figure out the length of the Great Wall of China. I remember hearing that it's really long, but I'm not exactly sure how long. I think it's somewhere in the thousands of miles, but I'm not certain. Let me try to break this down.\\n\\nFirst, I know the Great Wall is a series of fortifications built across several Chinese dynasties. It wasn't built all at once, so maybe that's why the length can vary. I've heard different numbers before, like 13,000 miles or 21,000 kilometers. But I'm not sure which one is accurate.\\n\\nI should consider the sources of this information. Maybe some people measure it differently. For example, if you include all the branches and sections, it might add up to a longer distance. But if you just take the main wall, it might be shorter. I think the Chinese government did a survey a while back, so that might be a reliable source.\\n\\nWait, I think they used advanced technology like GPS and satellites to measure it more accurately. That would make sense because older measurements might have been estimates. So, if the official measurement is around 13,171 miles, that's probably the most accurate number now.\\n\\nBut I also remember hearing that some sections are overlapping or that the wall isn't one continuous structure. It has different parts built in different times, so maybe that's why the total length adds up to more than just a straight line. Each section was built for specific purposes, like protecting certain areas or controlling trade routes.\\n\\nI wonder how they actually measured it. Did they walk along the wall and mark each segment? Or did they use aerial photography? Using satellites would probably give a more precise measurement because they can cover more ground without missing sections.\\n\\nAlso, the wall's condition might affect the measurement. Some parts are well-preserved, while others are ruins or even gone. So, when measuring, do they count only the parts that still exist, or do they include the entire original structure? I think the survey probably included all the existing sections, whether they're in good shape or not.\\n\\nAnother thing to consider is the historical context. The wall was built over centuries, so each dynasty added their own parts. This could mean that the wall isn't just one long structure but a collection of separate walls built at different times. Therefore, the total length is the sum of all these separate walls.\\n\\nI should also think about units. The user asked for the length, and I know that 13,171 miles is the figure I've heard before. Converting that to kilometers, it's about 21,196 km. That seems really long, but considering the wall spans across mountains and plains, it makes sense.\\n\\nI'm trying to remember if there are any other famous walls that are similarly long. I think the Great Wall of China is the longest man-made structure, so it's longer than other walls like Hadrian's Wall or the Berlin Wall. That puts it into perspective.\\n\\nIn summary, the Great Wall of China's length is approximately 13,171 miles or 21,196 kilometers. This measurement was determined by a comprehensive survey that accounted for all the sections, including the branches and overlapping parts. It's important to note that the wall isn't a single, continuous structure but a series of interconnected fortifications built over many centuries.\\n</think>\\n\\nThe Great Wall of China is approximately 13,171 miles (21,196 kilometers) long. This measurement was determined by a comprehensive survey that included all sections, branches, and overlapping parts. The wall is not a single, continuous structure but a series of fortifications built over centuries, contributing to its extensive total length.\""
      ]
     },
     "execution_count": 4,
     "metadata": {},
     "output_type": "execute_result"
    }
   ],
   "source": [
    "response.content"
   ]
  },
  {
   "cell_type": "code",
   "execution_count": 5,
   "id": "eed89467",
   "metadata": {},
   "outputs": [],
   "source": [
    "from langchain.tools import tool"
   ]
  },
  {
   "cell_type": "markdown",
   "id": "1a8ba3c1",
   "metadata": {},
   "source": [
    "## this is my custom tools"
   ]
  },
  {
   "cell_type": "code",
   "execution_count": 11,
   "id": "3f711f96",
   "metadata": {},
   "outputs": [],
   "source": [
    "from langchain.tools import tool\n",
    "\n",
    "@tool\n",
    "def multiply(a: int, b: int) -> int:\n",
    "    \"\"\"\n",
    "    Multiply two integers.\n",
    "\n",
    "    Args:\n",
    "        a (int): The first integer.\n",
    "        b (int): The second integer.\n",
    "\n",
    "    Returns:\n",
    "        int: The product of a and b.\n",
    "    \"\"\"\n",
    "    return a * b\n",
    "\n",
    "@tool\n",
    "def add(a: int, b: int) -> int:\n",
    "    \"\"\"\n",
    "    Add two integers.\n",
    "\n",
    "    Args:\n",
    "        a (int): The first integer.\n",
    "        b (int): The second integer.\n",
    "\n",
    "    Returns:\n",
    "        int: The sum of a and b.\n",
    "    \"\"\"\n",
    "    return a + b\n",
    "\n",
    "@tool\n",
    "def divide(a: int, b: int) -> float:\n",
    "    \"\"\"\n",
    "    Divide two integers.\n",
    "\n",
    "    Args:\n",
    "        a (int): The numerator.\n",
    "        b (int): The denominator (must not be 0).\n",
    "\n",
    "    Returns:\n",
    "        float: The result of division.\n",
    "    \"\"\"\n",
    "    if b == 0:\n",
    "        raise ValueError(\"Denominator cannot be zero.\")\n",
    "    return a / b"
   ]
  },
  {
   "cell_type": "markdown",
   "id": "36fb6eeb",
   "metadata": {},
   "source": [
    "## importing the inbuilt tool"
   ]
  },
  {
   "cell_type": "code",
   "execution_count": 7,
   "id": "09a85571",
   "metadata": {},
   "outputs": [],
   "source": [
    "from langchain_community.tools import DuckDuckGoSearchRun\n",
    "search=DuckDuckGoSearchRun()"
   ]
  },
  {
   "cell_type": "code",
   "execution_count": 8,
   "id": "70136b5d",
   "metadata": {},
   "outputs": [
    {
     "data": {
      "text/plain": [
       "\"Some iPhone 17 models (maybe even all of them) will have a new camera bump, a wide rectangular raised area that stretches across the phone similar in style to Google's Pixel line. According to a ... The iPhone 17 lineup brings significant technological improvements across design, performance, and functionality. Apple's latest innovations focus on enhanced displays, powerful processing capabilities, and advanced camera systems.. Innovative Design and Display. The iPhone 17 Pro Max features a larger 6.86-inch display, marking a notable size increase. Planned for September 2025, the iPhone 17 models could feature larger display sizes, ProMotion across the lineup, Wi-Fi 7, and more. We're still in the middle of the iPhone 16 release cycle, but ... New iPhone 17 colors. Rumors of a new color for the iPhone started in April, when Twitter user and leaker Majin Bu (not the Dragon Ball Z character) posted that the iPhone 17 Pro and Pro Max could ... • The iPhone 17's display may not match what the Pro model offers. • iOS 26, Apple's iPhone software update for later this year, got a preview at WWDC. • The iPhone 17 could support a new ...\""
      ]
     },
     "execution_count": 8,
     "metadata": {},
     "output_type": "execute_result"
    }
   ],
   "source": [
    "search.invoke(\"what is the latest update on iphone17 release?\")"
   ]
  },
  {
   "cell_type": "code",
   "execution_count": null,
   "id": "4d4636de",
   "metadata": {},
   "outputs": [],
   "source": [
    "# !pip install duckduckgo_search\n"
   ]
  },
  {
   "cell_type": "code",
   "execution_count": 12,
   "id": "62382fc9",
   "metadata": {},
   "outputs": [],
   "source": [
    "tools=[multiply, add, divide, search]"
   ]
  },
  {
   "cell_type": "code",
   "execution_count": 13,
   "id": "b9706a3a",
   "metadata": {},
   "outputs": [],
   "source": [
    "llm_with_tools=llm.bind_tools(tools)"
   ]
  },
  {
   "cell_type": "code",
   "execution_count": null,
   "id": "35a64d0a",
   "metadata": {},
   "outputs": [],
   "source": []
  }
 ],
 "metadata": {
  "kernelspec": {
   "display_name": "Python 3",
   "language": "python",
   "name": "python3"
  },
  "language_info": {
   "codemirror_mode": {
    "name": "ipython",
    "version": 3
   },
   "file_extension": ".py",
   "mimetype": "text/x-python",
   "name": "python",
   "nbconvert_exporter": "python",
   "pygments_lexer": "ipython3",
   "version": "3.10.16"
  }
 },
 "nbformat": 4,
 "nbformat_minor": 5
}
